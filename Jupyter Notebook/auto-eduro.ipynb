{
 "cells": [
  {
   "cell_type": "code",
   "execution_count": null,
   "metadata": {},
   "outputs": [],
   "source": [
    "%%capture\n",
    "!pip install selenium\n",
    "!pip install chromedriver-autoinstaller\n",
    "!pip install jupyternotify"
   ]
  },
  {
   "cell_type": "code",
   "execution_count": null,
   "metadata": {},
   "outputs": [],
   "source": [
    "from selenium import webdriver\n",
    "from selenium.webdriver.common.by import By\n",
    "from selenium.webdriver.support.ui import WebDriverWait\n",
    "from selenium.webdriver.support import expected_conditions as EC\n",
    "from chromedriver_autoinstaller import install as chromedriver\n",
    "%load_ext jupyternotify"
   ]
  },
  {
   "cell_type": "code",
   "execution_count": null,
   "metadata": {},
   "outputs": [],
   "source": [
    "options = webdriver.ChromeOptions()\n",
    "options.add_argument('headless')\n",
    "options.add_argument('window-size=1920x1080')\n",
    "options.add_argument('disable-gpu')\n",
    "options.add_argument('disable-infobars')\n",
    "options.add_argument('--disable-extensions')\n",
    "\n",
    "driver = webdriver.Chrome(executable_path=chromedriver(), options=options)\n",
    "driver.get('https://hcs.eduro.go.kr/')\n",
    "\n",
    "wait = WebDriverWait(driver, 10)"
   ]
  },
  {
   "cell_type": "code",
   "execution_count": null,
   "metadata": {},
   "outputs": [],
   "source": [
    "try:\n",
    "    file = open('../eduro_userdata', 'r')\n",
    "except FileNotFoundError:\n",
    "    temp_driver = webdriver.Chrome(executable_path=chromedriver())\n",
    "    temp_driver.get('https://hcs.eduro.go.kr/')\n",
    "    while True:\n",
    "        users = temp_driver.execute_script('''return localStorage.getItem('users');''')\n",
    "        cookies = temp_driver.execute_script('''return document.cookie;''')\n",
    "        password = temp_driver.execute_script('''return document.querySelector('input[type=\"password\"]')?.value;''')\n",
    "        if users:\n",
    "            file = open('../eduro_userdata', 'w')\n",
    "            file.write('\\n'.join([users, cookies, password]))\n",
    "            file.close()\n",
    "            break\n",
    "    temp_driver.quit()\n",
    "else:\n",
    "    users, cookies, password = file.read().split('\\n')\n",
    "    file.close()\n",
    "    \n",
    "driver.execute_script(f'''localStorage.setItem('users', '{users}');''')\n",
    "driver.execute_script(f'''document.cookie = '{cookies}';''')\n",
    "driver.refresh()"
   ]
  },
  {
   "cell_type": "code",
   "execution_count": null,
   "metadata": {},
   "outputs": [],
   "source": [
    "wait.until(EC.presence_of_element_located((By.CSS_SELECTOR, 'input[type=\"password\"]'))).send_keys(password)\n",
    "wait.until(EC.element_to_be_clickable((By.CSS_SELECTOR, '#btnConfirm'))).click()\n",
    "\n",
    "wait.until(EC.element_to_be_clickable((By.CSS_SELECTOR, '.btn'))).click()\n",
    "\n",
    "wait.until(EC.element_to_be_clickable((By.CSS_SELECTOR, 'input[id$=\"a1\"]')))\n",
    "answers = driver.find_elements(By.CSS_SELECTOR, 'input[id$=\"a1\"]')\n",
    "for answer in answers:\n",
    "    answer.click()\n",
    "wait.until(EC.element_to_be_clickable((By.CSS_SELECTOR, 'input[type=\"submit\"]'))).click()\n",
    "\n",
    "wait.until(EC.presence_of_element_located((By.CSS_SELECTOR, 'img[alt=\"정상\"]')))\n",
    "\n",
    "%notify -m \"자가진단을 완료했습니다.\""
   ]
  },
  {
   "cell_type": "code",
   "execution_count": null,
   "metadata": {},
   "outputs": [],
   "source": [
    "users = driver.execute_script('''return localStorage.getItem('users');''')\n",
    "cookies = driver.execute_script('''return document.cookie;''')\n",
    "if users:\n",
    "    file = open('../eduro_userdata', 'w')\n",
    "    file.write('\\n'.join([users, cookies, password]))\n",
    "    file.close()"
   ]
  },
  {
   "cell_type": "code",
   "execution_count": null,
   "metadata": {},
   "outputs": [],
   "source": [
    "driver.quit()"
   ]
  }
 ],
 "metadata": {
  "kernelspec": {
   "display_name": "Python 3",
   "language": "python",
   "name": "python3"
  },
  "language_info": {
   "codemirror_mode": {
    "name": "ipython",
    "version": 3
   },
   "file_extension": ".py",
   "mimetype": "text/x-python",
   "name": "python",
   "nbconvert_exporter": "python",
   "pygments_lexer": "ipython3",
   "version": "3.8.3"
  }
 },
 "nbformat": 4,
 "nbformat_minor": 4
}
