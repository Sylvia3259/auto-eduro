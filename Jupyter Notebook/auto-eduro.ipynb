{
 "cells": [
  {
   "cell_type": "code",
   "execution_count": 1,
   "metadata": {},
   "outputs": [],
   "source": [
    "%%capture\n",
    "!pip install selenium\n",
    "!pip install chromedriver-autoinstaller\n",
    "!pip install jupyternotify"
   ]
  },
  {
   "cell_type": "code",
   "execution_count": 2,
   "metadata": {},
   "outputs": [
    {
     "data": {
      "application/javascript": [
       "if (!(\"Notification\" in window)) {\n",
       "    alert(\"This browser does not support desktop notifications, so the %%notify magic will not work.\");\n",
       "} else if (Notification.permission !== 'granted' && Notification.permission !== 'denied') {\n",
       "    Notification.requestPermission(function (permission) {\n",
       "        if(!('permission' in Notification)) {\n",
       "            Notification.permission = permission;\n",
       "        }\n",
       "    })\n",
       "}\n"
      ],
      "text/plain": [
       "<IPython.core.display.Javascript object>"
      ]
     },
     "metadata": {},
     "output_type": "display_data"
    }
   ],
   "source": [
    "from selenium import webdriver\n",
    "from selenium.webdriver.common.by import By\n",
    "from selenium.webdriver.support.ui import WebDriverWait\n",
    "from selenium.webdriver.support import expected_conditions as EC\n",
    "from chromedriver_autoinstaller import install as chromedriver\n",
    "from time import sleep\n",
    "%load_ext jupyternotify"
   ]
  },
  {
   "cell_type": "code",
   "execution_count": 3,
   "metadata": {},
   "outputs": [],
   "source": [
    "try:\n",
    "    file = open('../eduro_userdata', 'r')\n",
    "except FileNotFoundError:\n",
    "    driver = webdriver.Chrome(executable_path=chromedriver())\n",
    "    driver.get('https://hcs.eduro.go.kr/')\n",
    "    while True:\n",
    "        users = driver.execute_script('''return localStorage.getItem('users');''')\n",
    "        password = driver.execute_script('''return document.querySelector('input[type=\"password\"]')?.value;''')\n",
    "        if users:\n",
    "            file = open('../eduro_userdata', 'w')\n",
    "            file.write('\\n'.join([users, password]))\n",
    "            file.close()\n",
    "            break\n",
    "        sleep(0.1)\n",
    "    driver.close()\n",
    "else:\n",
    "    users, password = file.read().split('\\n')\n",
    "    file.close()"
   ]
  },
  {
   "cell_type": "code",
   "execution_count": 4,
   "metadata": {},
   "outputs": [],
   "source": [
    "options = webdriver.ChromeOptions()\n",
    "options.add_argument('headless')\n",
    "options.add_argument('window-size=1920x1080')\n",
    "options.add_argument('disable-gpu')\n",
    "options.add_argument('disable-infobars')\n",
    "options.add_argument('--disable-extensions')\n",
    "\n",
    "driver = webdriver.Chrome(executable_path=chromedriver(), options=options)\n",
    "driver.get('https://hcs.eduro.go.kr/')\n",
    "\n",
    "wait = WebDriverWait(driver, 10)"
   ]
  },
  {
   "cell_type": "code",
   "execution_count": 5,
   "metadata": {},
   "outputs": [],
   "source": [
    "driver.execute_script(f'''localStorage.setItem('users', '{users}');''')\n",
    "driver.refresh()"
   ]
  },
  {
   "cell_type": "code",
   "execution_count": 6,
   "metadata": {},
   "outputs": [
    {
     "data": {
      "application/javascript": [
       "$(document).ready(\n",
       "    function() {\n",
       "        function appendUniqueDiv(){\n",
       "            // append a div with our uuid so we can check that it's already\n",
       "            // been sent and avoid duplicates on page reload\n",
       "            var notifiedDiv = document.createElement(\"div\")\n",
       "            notifiedDiv.id = \"6ef87d9c-4dc7-4427-a90a-c4c6459ddca0\"\n",
       "            element.append(notifiedDiv)\n",
       "        }\n",
       "\n",
       "        // only send notifications if the pageload is complete; this will\n",
       "        // help stop extra notifications when a saved notebook is loaded,\n",
       "        // which during testing gives us state \"interactive\", not \"complete\"\n",
       "        if (document.readyState === 'complete') {\n",
       "            // check for the div that signifies that the notification\n",
       "            // was already sent\n",
       "            if (document.getElementById(\"6ef87d9c-4dc7-4427-a90a-c4c6459ddca0\") === null) {\n",
       "                var notificationPayload = {\"requireInteraction\": false, \"icon\": \"/static/base/images/favicon.ico\", \"body\": \"\\uc790\\uac00\\uc9c4\\ub2e8\\uc744 \\uc644\\ub8cc\\ud588\\uc2b5\\ub2c8\\ub2e4.\"};\n",
       "                if (Notification.permission !== 'denied') {\n",
       "                    if (Notification.permission !== 'granted') { \n",
       "                        Notification.requestPermission(function (permission) {\n",
       "                            if(!('permission' in Notification)) {\n",
       "                                Notification.permission = permission\n",
       "                            }\n",
       "                        })\n",
       "                    }\n",
       "                    if (Notification.permission === 'granted') {\n",
       "                    var notification = new Notification(\"Jupyter Notebook\", notificationPayload)\n",
       "                    appendUniqueDiv()\n",
       "                    notification.onclick = function () {\n",
       "                        window.focus();\n",
       "                        this.close();\n",
       "                        };\n",
       "                    } \n",
       "                }     \n",
       "            }\n",
       "        }\n",
       "    }\n",
       ")\n"
      ],
      "text/plain": [
       "<IPython.core.display.Javascript object>"
      ]
     },
     "metadata": {},
     "output_type": "display_data"
    }
   ],
   "source": [
    "wait.until(EC.presence_of_element_located((By.CSS_SELECTOR, 'input[type=\"password\"]'))).send_keys(password)\n",
    "wait.until(EC.element_to_be_clickable((By.CSS_SELECTOR, '#btnConfirm'))).click()\n",
    "\n",
    "wait.until(EC.element_to_be_clickable((By.CSS_SELECTOR, 'button.btn'))).click()\n",
    "\n",
    "wait.until(EC.element_to_be_clickable((By.CSS_SELECTOR, 'input[id$=\"a1\"]')))\n",
    "answers = driver.find_elements(By.CSS_SELECTOR, 'input[id$=\"a1\"]')\n",
    "for answer in answers:\n",
    "    answer.click()\n",
    "wait.until(EC.element_to_be_clickable((By.CSS_SELECTOR, 'input[type=\"submit\"]'))).click()\n",
    "\n",
    "%notify -m \"자가진단을 완료했습니다.\""
   ]
  },
  {
   "cell_type": "code",
   "execution_count": 7,
   "metadata": {},
   "outputs": [],
   "source": [
    "driver.close()"
   ]
  }
 ],
 "metadata": {
  "kernelspec": {
   "display_name": "Python 3",
   "language": "python",
   "name": "python3"
  },
  "language_info": {
   "codemirror_mode": {
    "name": "ipython",
    "version": 3
   },
   "file_extension": ".py",
   "mimetype": "text/x-python",
   "name": "python",
   "nbconvert_exporter": "python",
   "pygments_lexer": "ipython3",
   "version": "3.8.3"
  }
 },
 "nbformat": 4,
 "nbformat_minor": 4
}
